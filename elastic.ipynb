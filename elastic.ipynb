{
 "cells": [
  {
   "cell_type": "code",
   "execution_count": null,
   "metadata": {
    "collapsed": true
   },
   "outputs": [],
   "source": [
    "import logging\n",
    "logging.basicConfig(format='%(levelname)s : %(message)s', level=logging.INFO)\n",
    "logging.root.level = logging.INFO"
   ]
  },
  {
   "cell_type": "code",
   "execution_count": null,
   "metadata": {
    "collapsed": true
   },
   "outputs": [],
   "source": [
    "from elasticsearch import Elasticsearch\n",
    "from elasticsearch.helpers import scan\n",
    "from elasticsearch_dsl import Search, Q"
   ]
  },
  {
   "cell_type": "code",
   "execution_count": null,
   "metadata": {
    "collapsed": true
   },
   "outputs": [],
   "source": [
    "es = Elasticsearch([\n",
    "    {'host': '172.17.0.2'}\n",
    "])"
   ]
  },
  {
   "cell_type": "code",
   "execution_count": null,
   "metadata": {
    "collapsed": true
   },
   "outputs": [],
   "source": [
    "s = Search(using=es, index=\"simplewiki\")"
   ]
  },
  {
   "cell_type": "code",
   "execution_count": null,
   "metadata": {
    "collapsed": true
   },
   "outputs": [],
   "source": [
    "s = Search(using=es, index=\"simplewiki\").query(\"match\", _all=\"dog\")"
   ]
  },
  {
   "cell_type": "code",
   "execution_count": null,
   "metadata": {
    "collapsed": true
   },
   "outputs": [],
   "source": [
    "s = Search(using=es, index=\"simplewiki\")\n",
    "\n",
    "from functools import reduce\n",
    "s.query = reduce((lambda x, y: x | y), [Q(\"match\", title=t) for t in [\"dog\", \"cat\", \"fox\"]])"
   ]
  },
  {
   "cell_type": "code",
   "execution_count": null,
   "metadata": {
    "collapsed": true
   },
   "outputs": [],
   "source": [
    "import pandas as pd"
   ]
  },
  {
   "cell_type": "code",
   "execution_count": null,
   "metadata": {
    "collapsed": true
   },
   "outputs": [],
   "source": [
    "docs = pd.DataFrame({\"title\": hit.title, \"text\": hit.text} for hit in s.scan())"
   ]
  },
  {
   "cell_type": "code",
   "execution_count": null,
   "metadata": {},
   "outputs": [],
   "source": [
    "len(docs)"
   ]
  },
  {
   "cell_type": "code",
   "execution_count": null,
   "metadata": {
    "collapsed": true
   },
   "outputs": [],
   "source": [
    "from gensim import models\n",
    "from gensim.corpora import Dictionary\n",
    "from gensim.utils import simple_preprocess\n",
    "from gensim.parsing.preprocessing import STOPWORDS\n",
    "\n",
    "def tokenize(text):\n",
    "    return [token for token in simple_preprocess(text) if token not in STOPWORDS]"
   ]
  },
  {
   "cell_type": "code",
   "execution_count": null,
   "metadata": {
    "collapsed": true
   },
   "outputs": [],
   "source": [
    "id2word = Dictionary(tokenize(d) for d in docs[\"text\"])\n",
    "id2word.filter_extremes(no_below=5, no_above=0.1)\n",
    "id2word.compactify()"
   ]
  },
  {
   "cell_type": "code",
   "execution_count": null,
   "metadata": {
    "collapsed": true
   },
   "outputs": [],
   "source": [
    "corpus = [id2word.doc2bow(tokenize(d)) for d in docs[\"text\"]]"
   ]
  },
  {
   "cell_type": "code",
   "execution_count": null,
   "metadata": {
    "collapsed": true
   },
   "outputs": [],
   "source": [
    "#from sklearn.manifold import TSNE\n",
    "from MulticoreTSNE import MulticoreTSNE as TSNE\n",
    "\n",
    "perplexity = 15\n",
    "learning_rate = 400\n",
    "\n",
    "#tsne = TSNE(n_components=2, perplexity=perplexity, learning_rate=learning_rate, random_state=1)\n",
    "tsne = TSNE(n_components=2, perplexity=perplexity, learning_rate=learning_rate, random_state=1, n_jobs=8)"
   ]
  },
  {
   "cell_type": "markdown",
   "metadata": {},
   "source": [
    "# LDA"
   ]
  },
  {
   "cell_type": "code",
   "execution_count": null,
   "metadata": {
    "collapsed": true
   },
   "outputs": [],
   "source": [
    "from gensim.models import LdaModel"
   ]
  },
  {
   "cell_type": "code",
   "execution_count": null,
   "metadata": {},
   "outputs": [],
   "source": [
    "model = LdaModel(corpus, num_topics=20, id2word=id2word, passes=10)"
   ]
  },
  {
   "cell_type": "code",
   "execution_count": null,
   "metadata": {
    "collapsed": true
   },
   "outputs": [],
   "source": [
    "gamma, _ = model.inference(corpus)\n",
    "doc_topic_dists = gamma / gamma.sum(axis=1)[:, None]\n",
    "doc_topics_df = pd.DataFrame(doc_topic_dists, columns = [\"Topic %d\" % i for i in range(doc_topic_dists.shape[1])])"
   ]
  },
  {
   "cell_type": "code",
   "execution_count": null,
   "metadata": {
    "collapsed": true
   },
   "outputs": [],
   "source": [
    "tsne_data = tsne.fit_transform(doc_topic_dists)\n",
    "tsne_df = pd.DataFrame(tsne_data, columns=['Component 1', 'Component 2'], index=docs.index)\n",
    "docs_all = pd.concat([docs, tsne_df], axis = 1)"
   ]
  },
  {
   "cell_type": "code",
   "execution_count": null,
   "metadata": {
    "collapsed": true
   },
   "outputs": [],
   "source": [
    "import pyLDAvis.gensim as gensimvis\n",
    "import pyLDAvis"
   ]
  },
  {
   "cell_type": "code",
   "execution_count": null,
   "metadata": {},
   "outputs": [],
   "source": [
    "vis_data = gensimvis.prepare(model, corpus, id2word)\n",
    "pyLDAvis.display(vis_data)"
   ]
  },
  {
   "cell_type": "markdown",
   "metadata": {},
   "source": [
    "# LSI"
   ]
  },
  {
   "cell_type": "code",
   "execution_count": null,
   "metadata": {
    "collapsed": true
   },
   "outputs": [],
   "source": [
    "from gensim.models import LsiModel\n",
    "import numpy as np\n",
    "lsi_model = LsiModel(corpus, id2word=id2word, num_topics=20)\n",
    "\n",
    "doc_lsi_topics = np.array([[dd[1] for dd in d] if len(d) == 20 else [0] * 20 for d in lsi_model[corpus]])\n",
    "doc_lsi_topics_df = pd.DataFrame(doc_lsi_topics, columns = [\"Topic %d\" % i for i in range(lsi_model.projection.k)])"
   ]
  },
  {
   "cell_type": "code",
   "execution_count": null,
   "metadata": {
    "collapsed": true
   },
   "outputs": [],
   "source": [
    "tsne_data = tsne.fit_transform(doc_lsi_topics)\n",
    "tsne_df = pd.DataFrame(tsne_data, columns=['Component 1', 'Component 2'], index=docs.index)\n",
    "docs_all = pd.concat([docs, tsne_df], axis = 1)"
   ]
  },
  {
   "cell_type": "markdown",
   "metadata": {},
   "source": [
    "# Both"
   ]
  },
  {
   "cell_type": "code",
   "execution_count": null,
   "metadata": {},
   "outputs": [],
   "source": [
    "from bokeh.plotting import figure, ColumnDataSource, output_notebook, output_file, show, save \n",
    "from bokeh.models import HoverTool, WheelZoomTool, PanTool, BoxZoomTool, ResetTool, TapTool, SaveTool\n",
    "from bokeh.palettes import brewer\n",
    "output_notebook()"
   ]
  },
  {
   "cell_type": "code",
   "execution_count": null,
   "metadata": {},
   "outputs": [],
   "source": [
    "title = \"Search Results\"\n",
    "\n",
    "source = ColumnDataSource(docs_all)\n",
    "\n",
    "#hover = HoverTool(tooltips=[(column, '@' + column) for column in reversed(docs_all.columns)])\n",
    "hover = HoverTool(tooltips=[(column, '@' + column) for column in [\"title\"]])\n",
    "\n",
    "tools = [hover, WheelZoomTool(), PanTool(), BoxZoomTool(), ResetTool(), TapTool(), SaveTool()]\n",
    "\n",
    "p = figure(\n",
    "    tools=tools,\n",
    "    title=title,\n",
    "    plot_width=800,\n",
    "    plot_height=800,\n",
    "    toolbar_location='below',\n",
    "    toolbar_sticky=False, )\n",
    "\n",
    "p.circle(\n",
    "    x='Component 1',\n",
    "    y='Component 2',\n",
    "    source=source,\n",
    "    size=10,\n",
    "    line_color='#333333',\n",
    "    line_width=0.5,\n",
    "    fill_alpha=0.8,\n",
    "    color='#333333')\n",
    "\n",
    "show(p)"
   ]
  }
 ],
 "metadata": {
  "kernelspec": {
   "display_name": "Python 3",
   "language": "python",
   "name": "python3"
  },
  "language_info": {
   "codemirror_mode": {
    "name": "ipython",
    "version": 3
   },
   "file_extension": ".py",
   "mimetype": "text/x-python",
   "name": "python",
   "nbconvert_exporter": "python",
   "pygments_lexer": "ipython3",
   "version": "3.5.2"
  }
 },
 "nbformat": 4,
 "nbformat_minor": 2
}
